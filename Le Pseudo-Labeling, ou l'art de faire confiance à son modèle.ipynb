{
 "cells": [
  {
   "cell_type": "markdown",
   "metadata": {},
   "source": [
    "# La Pseudo-Labellisation, ou l'art de faire confiance à son modèle (avec modération)\n",
    "\n",
    "Bienvenue dans ce premier chapitre pratique ! Aujourd'hui, on s'attaque à un classique de l'apprentissage semi-supervisé : la **pseudo-labellisation**. L'idée ? Si un modèle est suffisamment sûr de sa prédiction sur une image non labellisée, pourquoi ne pas lui faire confiance et utiliser cette prédiction comme un \"vrai\" label ?\n",
    "\n",
    "> C'est un peu comme demander à un élève de corriger ses propres copies. Risqué, mais si on le guide bien, ça peut marcher !\n",
    "\n",
    "**Objectifs du jour :**\n",
    "1. Entraîner un premier modèle sur très peu de données.\n",
    "2. Utiliser ce modèle pour générer des pseudo-labels sur des données non labellisées.\n",
    "3. Implémenter la boucle de pseudo-labellisation pour ré-entraîner le modèle.\n",
    "4. Comprendre l'importance du **seuil de confiance** et de la **calibration**."
   ]
  },
  {
   "cell_type": "markdown",
   "metadata": {},
   "source": [
    "## 1. Préparation de l'environnement et des données\n",
    "\n",
    "On commence par les bases : importer les librairies et charger notre dataset, `DermaMNIST`. C'est un jeu de données d'images de lésions cutanées. Notre mission : les classifier correctement, même avec une poignée de labels.\n",
    "\n",
    "DermaMNIST fait partie de la famille des datasets **MedMNIST**, une collection standardisée de datasets d'images médicales, tous au format 28x28 et organisés de manière similaire aux célèbres datasets MNIST. L'objectif de MedMNIST est de faciliter la recherche et la comparaison de modèles d'apprentissage automatique sur des tâches médicales.\n",
    "\n",
    "Le dataset DermaMNIST est basé sur le HAM10000, une large collection d'images de dermatoscopie. Il contient des images de 7 classes différentes de lésions cutanées. Son intérêt pédagogique est majeur : il permet d'aborder des problèmes de classification d'images médicales avec un dataset de taille raisonnable, tout en simulant des scénarios de faible quantité de données labellisées, parfait pour explorer des techniques comme la pseudo-labellisation.\n",
    "\n",
    "Les 7 classes de lésions cutanées sont :\n",
    "\n",
    "    0: actinic keratoses and intraepithelial carcinoma\n",
    "    1: basal cell carcinoma\n",
    "    2: benign keratosis-like lesions\n",
    "    3: dermatofibroma\n",
    "    4: melanoma\n",
    "    5: melanocytic nevi\n",
    "    6: vascular lesions"
   ]
  },
  {
   "cell_type": "code",
   "execution_count": 1,
   "metadata": {},
   "outputs": [],
   "source": [
    "import numpy as np\n",
    "import matplotlib.pyplot as plt\n",
    "import torch\n",
    "import torch.nn as nn\n",
    "import torch.nn.functional as F\n",
    "from torch.utils.data import DataLoader, TensorDataset, Subset\n",
    "from torchvision import transforms\n",
    "import torchvision.models as models\n",
    "import medmnist\n",
    "from medmnist import INFO, Evaluator\n",
    "from sklearn.model_selection import train_test_split\n",
    "from tqdm import tqdm\n",
    "from sklearn.semi_supervised import LabelSpreading\n",
    "from sklearn.metrics import accuracy_score, f1_score, confusion_matrix, ConfusionMatrixDisplay, roc_auc_score\n",
    "\n",
    "# Pour la reproductibilité, parce qu'on est des gens sérieux\n",
    "torch.manual_seed(42)\n",
    "np.random.seed(42)"
   ]
  },
  {
   "cell_type": "markdown",
   "metadata": {},
   "source": [
    "### 📦 Chargement du dataset DermaMNIST\n",
    "\n",
    "La librairie `medmnist` nous simplifie la vie. On télécharge les données et on les prépare."
   ]
  },
  {
   "cell_type": "code",
   "execution_count": 2,
   "metadata": {},
   "outputs": [
    {
     "name": "stdout",
     "output_type": "stream",
     "text": [
      "Dataset chargé : dermamnist\n",
      "Type de tâche : multi-class\n",
      "Nombre de canaux : 3\n",
      "Nombre de classes : 7\n",
      "Taille du jeu d'entraînement : 7007\n",
      "Taille du jeu de test : 2005\n"
     ]
    }
   ],
   "source": [
    "# Nom du dataset à charger\n",
    "data_flag = 'dermamnist'\n",
    "# Récupère les informations spécifiques à ce dataset depuis medmnist\n",
    "info = INFO[data_flag]\n",
    "\n",
    "# Ajout de prints pour mieux comprendre le dataset\n",
    "print(f\"Dataset chargé : {data_flag}\")\n",
    "\n",
    "# Extrait le type de tâche (classification, régression, etc.)\n",
    "task = info['task']\n",
    "print(f\"Type de tâche : {task}\")\n",
    "\n",
    "# Extrait le nombre de canaux des images (3 pour RGB, 1 pour niveaux de gris)\n",
    "n_channels = info['n_channels']\n",
    "print(f\"Nombre de canaux : {n_channels}\")\n",
    "\n",
    "# Extrait le nombre de classes pour la classification\n",
    "n_classes = len(info['label'])\n",
    "print(f\"Nombre de classes : {n_classes}\")\n",
    "\n",
    "# Récupère la classe Python spécifique pour ce dataset\n",
    "DataClass = getattr(medmnist, info['python_class'])\n",
    "\n",
    "# Transformations: on sépare train/test et on ajoute des augmentations légères pour mieux généraliser\n",
    "# Normalisation explicite 3 canaux\n",
    "transform_train = transforms.Compose([\n",
    "    transforms.ToTensor(),\n",
    "    transforms.RandomHorizontalFlip(p=0.5),\n",
    "    transforms.RandomRotation(15),\n",
    "    transforms.ColorJitter(brightness=0.2, contrast=0.2),\n",
    "    transforms.Normalize(mean=[0.5, 0.5, 0.5], std=[0.5, 0.5, 0.5])\n",
    "])\n",
    "\n",
    "transform_test = transforms.Compose([\n",
    "    transforms.ToTensor(),\n",
    "    transforms.Normalize(mean=[0.5, 0.5, 0.5], std=[0.5, 0.5, 0.5])\n",
    "])\n",
    "\n",
    "# Charge les datasets d'entraînement et de test\n",
    "train_dataset = DataClass(split='train', transform=transform_train, download=True)\n",
    "test_dataset = DataClass(split='test', transform=transform_test, download=True)\n",
    "\n",
    "print(f\"Taille du jeu d'entraînement : {len(train_dataset)}\")\n",
    "print(f\"Taille du jeu de test : {len(test_dataset)}\")"
   ]
  },
  {
   "cell_type": "markdown",
   "metadata": {},
   "source": [
    "### 🧪 Pourquoi ces transformations ? (Pédagogie)\n",
    "\n",
    "Nous séparons désormais clairement l'entraînement et le test et ajoutons de **légères augmentations** (flip horizontal, petite rotation, léger jitter de contraste/luminosité) côté train. \n",
    "\n",
    "- Objectif: améliorer la généralisation avec seulement 350 images labellisées.\n",
    "- Risque maîtrisé: ces augmentations restent plausibles pour DermaMNIST et n’altèrent pas le diagnostic visuel.\n",
    "- Normalisation: explicite sur **3 canaux** (`mean=[0.5,0.5,0.5]`, `std=[0.5,0.5,0.5]`) pour clarifier l’intention.\n",
    "\n",
    "Attendez-vous à de légers gains de stabilité/robustesse par rapport à l’entraînement sans augmentations."
   ]
  },
  {
   "cell_type": "code",
   "execution_count": 3,
   "metadata": {},
   "outputs": [
    {
     "data": {
      "image/png": "[encoded data removed]",
      "text/plain": [
       "<Figure size 1500x300 with 5 Axes>"
      ]
     },
     "metadata": {},
     "output_type": "display_data"
    }
   ],
   "source": [
    "# Visualisation de quelques exemples\n",
    "num_examples = 5\n",
    "fig, axes = plt.subplots(1, num_examples, figsize=(15, 3))\n",
    "\n",
    "for i in range(num_examples):\n",
    "    # Récupère une image et son label\n",
    "    image, label = train_dataset[i]\n",
    "    # L'image est un tensor, on le convertit en numpy array et on le transpose pour l'affichage\n",
    "    # On dénormalise aussi l'image pour un affichage correct\n",
    "    img = image.numpy().transpose(1, 2, 0) * 0.5 + 0.5\n",
    "    axes[i].imshow(img.squeeze(), cmap='gray') # Use cmap='gray' for single channel images if needed\n",
    "    axes[i].set_title(f\"Label: {label.item()}\")\n",
    "    axes[i].axis('off')\n",
    "\n",
    "plt.show()"
   ]
  },
  {
   "cell_type": "markdown",
   "metadata": {},
   "source": [
    "### 🧩 Création des jeux de données : Étiqueté vs. Non-étiqueté\n",
    "\n",
    "C'est ici que la magie du semi-supervisé opère. On va simuler une situation où on a très peu de données labellisées et un grand volume de données dont on ignore la classe.\n",
    "\n",
    "On va prendre seulement **50 images par classe** pour l'entraînement étiqueté (350 images au total). Le reste du jeu d'entraînement sera notre vivier de données non-labellisées."
   ]
  },
  {
   "cell_type": "code",
   "execution_count": 4,
   "metadata": {},
   "outputs": [
    {
     "name": "stdout",
     "output_type": "stream",
     "text": [
      "Taille du jeu de données étiqueté : 350\n",
      "Taille du jeu de données non-étiqueté : 6657\n",
      "Taille du jeu de test : 2005\n"
     ]
    }
   ],
   "source": [
    "# On prend tout le set d'entraînement initial\n",
    "all_indices = list(range(len(train_dataset)))\n",
    "labels_array = np.array(train_dataset.labels).flatten()\n",
    "\n",
    "# Sélectionner 50 images par classe\n",
    "labeled_indices = []\n",
    "for c in range(n_classes):\n",
    "    class_indices = np.where(labels_array == c)[0]\n",
    "    selected = np.random.choice(class_indices, min(50, len(class_indices)), replace=False)\n",
    "    labeled_indices.extend(selected)\n",
    "\n",
    "# Les indices non étiquetés sont le reste\n",
    "unlabeled_indices = list(set(all_indices) - set(labeled_indices))\n",
    "\n",
    "# Création des Subsets PyTorch\n",
    "labeled_dataset = Subset(train_dataset, labeled_indices)\n",
    "unlabeled_dataset = Subset(train_dataset, unlabeled_indices)\n",
    "\n",
    "print(f\"Taille du jeu de données étiqueté : {len(labeled_dataset)}\")\n",
    "print(f\"Taille du jeu de données non-étiqueté : {len(unlabeled_dataset)}\")\n",
    "print(f\"Taille du jeu de test : {len(test_dataset)}\")\n",
    "\n",
    "# DataLoaders\n",
    "labeled_loader = DataLoader(dataset=labeled_dataset, batch_size=16, shuffle=True)\n",
    "unlabeled_loader = DataLoader(dataset=unlabeled_dataset, batch_size=128, shuffle=False) # Pas besoin de shuffle ici\n",
    "test_loader = DataLoader(dataset=test_dataset, batch_size=128, shuffle=False)"
   ]
  },
  {
   "cell_type": "markdown",
   "metadata": {},
   "source": [
    "### 🎓 Objectif pédagogique\n",
    "\n",
    "Nous allons rendre le notebook plus explicite et mesurable:\n",
    "- **Suivre des métriques** (AUC, Accuracy, F1 macro) à chaque étape.\n",
    "- **Visualiser** une matrice de confusion après entraînement.\n",
    "- **Documenter** nos choix (augmentations, seuils de pseudo‑labels) pour interpréter les résultats—bons ou moins bons."
   ]
  },
  {
   "cell_type": "code",
   "execution_count": 5,
   "metadata": {},
   "outputs": [
    {
     "name": "stdout",
     "output_type": "stream",
     "text": [
      "Distribution des classes dans le 'labeled_dataset' (350 images) :\n",
      "\n",
      "Classe 0 (actinic keratoses and intraepithelial carcinoma): 50 images\n",
      "Classe 1 (basal cell carcinoma): 50 images\n",
      "Classe 2 (benign keratosis-like lesions): 50 images\n",
      "Classe 3 (dermatofibroma): 50 images\n",
      "Classe 4 (melanoma): 50 images\n",
      "Classe 5 (melanocytic nevi): 50 images\n",
      "Classe 6 (vascular lesions): 50 images\n"
     ]
    },
    {
     "data": {
      "image/png": "[encoded data removed]",
      "text/plain": [
       "<Figure size 1000x600 with 1 Axes>"
      ]
     },
     "metadata": {},
     "output_type": "display_data"
    }
   ],
   "source": [
    "# Les labels du dataset complet sont dans train_dataset.labels\n",
    "# On récupère les labels correspondant aux indices de notre jeu étiqueté\n",
    "labels_of_labeled_set = train_dataset.labels[labeled_indices]\n",
    "\n",
    "# Compter le nombre d'occurrences de chaque classe\n",
    "class_counts = np.bincount(np.array(labels_of_labeled_set).flatten(), minlength=n_classes)\n",
    "class_names = [f'{i}: {name}' for i, name in info['label'].items()]\n",
    "\n",
    "# Afficher les comptes\n",
    "print(\"Distribution des classes dans le 'labeled_dataset' (350 images) :\\n\")\n",
    "for i, count in enumerate(class_counts):\n",
    "    # Récupérer le nom complet de la classe\n",
    "    full_class_name = info['label'][str(i)]\n",
    "    print(f\"Classe {i} ({full_class_name}): {count} images\")\n",
    "\n",
    "# Créer un graphique à barres pour visualiser la distribution\n",
    "plt.figure(figsize=(10, 6))\n",
    "plt.bar(class_names, class_counts, color='dodgerblue')\n",
    "plt.xlabel('Classes de lésions cutanées')\n",
    "plt.ylabel(\"Nombre d'images\")\n",
    "plt.title(\"Distribution des classes dans le jeu de données étiqueté (350 images)\")\n",
    "plt.xticks(rotation=45, ha='right')\n",
    "plt.tight_layout()\n",
    "plt.show()"
   ]
  },
  {
   "cell_type": "markdown",
   "metadata": {},
   "source": [
    "### 📈 Suivi et initialisation des métriques\n",
    "\n",
    "Nous allons initialiser trois listes globales `metrics_auc`, `metrics_acc`, `metrics_f1` pour tracer l’évolution au fil des itérations. Cela permet de diagnostiquer la dérive potentielle et d’argumenter pédagogiquement nos choix (seuils, marge, quotas)."
   ]
  },
  {
   "cell_type": "markdown",
   "metadata": {},
   "source": [
    "## 2. Le Modèle de Base (Supervisé)\n",
    "\n",
    "On va d'abord entraîner un modèle simple (un petit réseau de neuronnes convolutifs (CNN)) uniquement sur nos 350 images labellisées. On s'attend à une performance... modeste. C'est notre point de départ."
   ]
  },
  {
   "cell_type": "code",
   "execution_count": 6,
   "metadata": {},
   "outputs": [],
   "source": [
    "# Définition d'un petit CNN (vous pouvez l'améliorer !)\n",
    "class SimpleCNN(nn.Module):\n",
    "    def __init__(self, in_channels, num_classes):\n",
    "        super(SimpleCNN, self).__init__()\n",
    "        self.layer1 = nn.Sequential(\n",
    "            nn.Conv2d(in_channels, 16, kernel_size=3, padding=1),\n",
    "            nn.BatchNorm2d(16),\n",
    "            nn.ReLU(),\n",
    "            nn.MaxPool2d(kernel_size=2, stride=2))\n",
    "        self.layer2 = nn.Sequential(\n",
    "            nn.Conv2d(16, 32, kernel_size=3, padding=1),\n",
    "            nn.BatchNorm2d(32),\n",
    "            nn.ReLU(),\n",
    "            nn.MaxPool2d(kernel_size=2, stride=2))\n",
    "        self.fc = nn.Linear(7 * 7 * 32, num_classes)\n",
    "\n",
    "    def forward(self, x):\n",
    "        out = self.layer1(x)\n",
    "        out = self.layer2(out)\n",
    "        out = out.reshape(out.size(0), -1)\n",
    "        out = self.fc(out)\n",
    "        return out\n",
    "\n",
    "# Définir le device (à mettre au début de votre code si ce n'est pas déjà fait)\n",
    "device = torch.device(\"cpu\")\n",
    "\n",
    "# On instancie la loss (sans poids car dataset équilibré)\n",
    "criterion = nn.CrossEntropyLoss()\n",
    "\n",
    "# On déplace aussi le modèle sur le device\n",
    "model = SimpleCNN(in_channels=n_channels, num_classes=n_classes).to(device)\n",
    "optimizer = torch.optim.Adam(model.parameters(), lr=0.001)"
   ]
  },
  {
   "cell_type": "markdown",
   "metadata": {},
   "source": [
    "### 📊 Suivi des métriques au fil des itérations\n",
    "\n",
    "Nous allons suivre **AUC**, **Accuracy** et **F1 macro** à chaque itération de pseudo‑labeling pour rendre visible l'impact de nos choix (seuils, marge, volumes ajoutés). Cette traçabilité aide à expliquer les améliorations… ou les régressions."
   ]
  },
  {
   "cell_type": "markdown",
   "metadata": {},
   "source": [
    "### ⚙️ Initialisation des métriques\n",
    "\n",
    "Nous initialisons des listes globales pour tracer AUC, Accuracy et F1 macro après chaque étape/clé du workflow."
   ]
  },
  {
   "cell_type": "code",
   "execution_count": 7,
   "metadata": {},
   "outputs": [],
   "source": [
    "# Listes globales pour tracer les métriques au fil des étapes\n",
    "metrics_auc, metrics_acc, metrics_f1 = [], [], []\n",
    "\n",
    "\n",
    "def plot_metrics():\n",
    "    \"\"\"Trace l'évolution des AUC/Accuracy/F1 macro si des valeurs sont disponibles.\"\"\"\n",
    "    if len(metrics_auc) == 0:\n",
    "        print(\"Aucune métrique enregistrée pour le moment.\")\n",
    "        return\n",
    "    steps = range(1, len(metrics_auc) + 1)\n",
    "    plt.figure(figsize=(8, 4))\n",
    "    plt.plot(steps, metrics_auc, label='AUC')\n",
    "    plt.plot(steps, metrics_acc, label='Accuracy')\n",
    "    plt.plot(steps, metrics_f1, label='F1 (macro)')\n",
    "    plt.xlabel('Étape / Itération')\n",
    "    plt.ylabel('Score')\n",
    "    plt.title(\"Évolution des métriques\")\n",
    "    plt.legend()\n",
    "    plt.grid(True, alpha=0.3)\n",
    "    plt.tight_layout()\n",
    "    plt.show()"
   ]
  },
  {
   "cell_type": "code",
   "execution_count": 8,
   "metadata": {},
   "outputs": [
    {
     "name": "stdout",
     "output_type": "stream",
     "text": [
      "Entraînement du modèle de base sur 350 images labellisées...\n",
      "AUC: 0.824, Accuracy: 0.489, F1: 0.234\n"
     ]
    }
   ],
   "source": [
    "def train_and_evaluate(model, train_loader, test_loader, optimizer, criterion, epochs=10):\n",
    "    \"\"\"\n",
    "    Entraîne et évalue un modèle. Retourne (AUC, ACC, F1).\n",
    "    Si des listes globales metrics_auc/metrics_acc/metrics_f1 existent, y ajoute les scores.\n",
    "    \"\"\"\n",
    "    device = next(model.parameters()).device\n",
    "\n",
    "    for epoch in range(epochs):\n",
    "        model.train()\n",
    "        for images, labels in train_loader:\n",
    "            images = images.to(device)\n",
    "            labels = labels.squeeze().long().to(device)\n",
    "            optimizer.zero_grad()\n",
    "            outputs = model(images)\n",
    "            loss = criterion(outputs, labels)\n",
    "            loss.backward()\n",
    "            optimizer.step()\n",
    "\n",
    "    # Évaluation\n",
    "    model.eval()\n",
    "    y_true = torch.tensor([]).to(device)\n",
    "    y_score_logits = torch.tensor([]).to(device)\n",
    "    y_score_preds = torch.tensor([]).to(device)\n",
    "    with torch.no_grad():\n",
    "        for images, labels in test_loader:\n",
    "            images = images.to(device)\n",
    "            labels = labels.to(device)\n",
    "            outputs = model(images)\n",
    "            y_true = torch.cat((y_true, labels), 0)\n",
    "            y_score_logits = torch.cat((y_score_logits, outputs), 0)\n",
    "            preds = torch.argmax(outputs, dim=1)\n",
    "            y_score_preds = torch.cat((y_score_preds, preds), 0)\n",
    "\n",
    "    y_true = y_true.squeeze().cpu().numpy()\n",
    "    y_score_logits = y_score_logits.detach().cpu().numpy()\n",
    "    y_score_preds = y_score_preds.detach().cpu().numpy()\n",
    "\n",
    "    evaluator = Evaluator(data_flag, 'test')\n",
    "    auc, acc = evaluator.evaluate(y_score_logits)\n",
    "    f1 = f1_score(y_true, y_score_preds, average='macro')\n",
    "\n",
    "    try:\n",
    "        metrics_auc.append(auc)\n",
    "        metrics_acc.append(acc)\n",
    "        metrics_f1.append(f1)\n",
    "    except NameError:\n",
    "        pass\n",
    "\n",
    "    print(f'AUC: {auc:.3f}, Accuracy: {acc:.3f}, F1: {f1:.3f}')\n",
    "    return (auc, acc, f1)\n",
    "\n",
    "print(\"Entraînement du modèle de base sur 350 images labellisées...\")\n",
    "baseline_metrics = train_and_evaluate(model, labeled_loader, test_loader, optimizer, criterion)\n"
   ]
  },
  {
   "cell_type": "markdown",
   "metadata": {},
   "source": [
    "## 3. La Pseudo-Labellisation à la rescousse !\n",
    "\n",
    "Le score de base est probablement... bof. C'est normal !\n",
    "Maintenant, on va mettre en place la boucle de pseudo-labellisation.\n",
    "\n",
    "**Le principe :**\n",
    "1. **Prédire** sur les données non labellisées.\n",
    "2. **Sélectionner** les prédictions où le modèle est le plus confiant (au-dessus d'un certain `seuil`).\n",
    "3. **Ajouter** ces prédictions (images + pseudo-labels) au jeu d'entraînement étiqueté.\n",
    "4. **Ré-entraîner** le modèle sur ce nouveau jeu de données augmenté.\n",
    "5. Répéter !\n",
    "\n",
    "Génération des pseudo-labels :\n",
    "1. Parcourir le `unlabeled_loader`.\n",
    "2. Obtenir les prédictions du modèle.\n",
    "3. Appliquer un `softmax` pour avoir des probabilités.\n",
    "4. Identifier la probabilité maximale (`probs`) et la classe prédite (`preds`) pour chaque image.\n",
    "5. Ne garder que les images où `probs` est supérieur au `threshold`.\n",
    "6. Retourner les indices de ces images et leurs pseudo-labels."
   ]
  },
  {
   "cell_type": "code",
   "execution_count": 9,
   "metadata": {},
   "outputs": [],
   "source": [
    "def get_pseudo_labels(model, unlabeled_loader, threshold=0.95):\n",
    "    \"\"\"Génère des pseudo-labels pour les données où le modèle est confiant.\"\"\"\n",
    "    model.eval()\n",
    "    pseudo_labeled_indices = []\n",
    "    pseudo_labels = []\n",
    "\n",
    "    with torch.no_grad():\n",
    "        for i, (images, _) in enumerate(unlabeled_loader):\n",
    "            # Déplacer les images sur le même appareil que le modèle (GPU si disponible)\n",
    "            images = images.to(next(model.parameters()).device)\n",
    "\n",
    "            # 1. Obtenir les prédictions (logits)\n",
    "            outputs = model(images)\n",
    "\n",
    "            # 2. Calculer les probabilités (softmax)\n",
    "            probabilities = torch.softmax(outputs, dim=1)\n",
    "\n",
    "            # 3. Obtenir la proba max et la classe prédite\n",
    "            max_probs, predicted_classes = torch.max(probabilities, dim=1)\n",
    "\n",
    "            # 4. Filtrer selon le seuil\n",
    "            confident_mask = max_probs > threshold\n",
    "\n",
    "            # 5. Récupérer les indices et les labels\n",
    "            # Les indices dans le DataLoader ne correspondent pas aux indices dans le dataset original\n",
    "            # Il faut donc calculer les indices réels dans le unlabeled_dataset\n",
    "            batch_start_index = i * unlabeled_loader.batch_size\n",
    "            original_indices_in_unlabeled_dataset = torch.arange(batch_start_index, batch_start_index + images.size(0))\n",
    "\n",
    "            # On utilise les indices originaux dans le unlabeled_dataset pour accéder aux indices dans le train_dataset complet\n",
    "            original_indices = [unlabeled_loader.dataset.indices[j] for j in original_indices_in_unlabeled_dataset[confident_mask]]\n",
    "\n",
    "            confident_labels = predicted_classes[confident_mask]\n",
    "\n",
    "\n",
    "            pseudo_labeled_indices.extend(original_indices)\n",
    "            pseudo_labels.extend(confident_labels.tolist())\n",
    "\n",
    "    print(f\"Nombre d'images pour lesquelles le modèle est confiant (> {threshold:.2f}) : {len(pseudo_labeled_indices)}\")\n",
    "    return pseudo_labeled_indices, pseudo_labels"
   ]
  },
  {
   "cell_type": "markdown",
   "metadata": {},
   "source": [
    "### 🔁 La grande boucle de pseudo-labellisation\n",
    "\n",
    "Maintenant, on assemble tout. On va faire plusieurs itérations de pseudo-labellisation."
   ]
  },
  {
   "cell_type": "code",
   "execution_count": 10,
   "metadata": {},
   "outputs": [
    {
     "name": "stdout",
     "output_type": "stream",
     "text": [
      "--- Itération 1 ---\n",
      "Entraînement sur 350 images...\n",
      "AUC: 0.805, Accuracy: 0.547, F1: 0.290\n",
      "Génération de pseudo-labels...\n",
      "Nombre d'images pour lesquelles le modèle est confiant (> 0.90) : 786\n",
      "786 nouveaux pseudo-labels ajoutés.\n",
      "--- Itération 2 ---\n",
      "Entraînement sur 1136 images...\n",
      "AUC: 0.845, Accuracy: 0.586, F1: 0.308\n",
      "Génération de pseudo-labels...\n",
      "Nombre d'images pour lesquelles le modèle est confiant (> 0.90) : 2330\n",
      "2330 nouveaux pseudo-labels ajoutés.\n",
      "--- Itération 3 ---\n",
      "Entraînement sur 2690 images...\n",
      "AUC: 0.852, Accuracy: 0.585, F1: 0.295\n",
      "Génération de pseudo-labels...\n",
      "Nombre d'images pour lesquelles le modèle est confiant (> 0.90) : 2896\n",
      "2896 nouveaux pseudo-labels ajoutés.\n",
      "--- Itération 4 ---\n",
      "Entraînement sur 3410 images...\n",
      "AUC: 0.846, Accuracy: 0.598, F1: 0.289\n",
      "Génération de pseudo-labels...\n",
      "Nombre d'images pour lesquelles le modèle est confiant (> 0.90) : 3430\n",
      "3430 nouveaux pseudo-labels ajoutés.\n",
      "--- Itération 5 ---\n",
      "Entraînement sur 3932 images...\n",
      "AUC: 0.844, Accuracy: 0.605, F1: 0.301\n",
      "Génération de pseudo-labels...\n",
      "Nombre d'images pour lesquelles le modèle est confiant (> 0.90) : 3627\n",
      "3627 nouveaux pseudo-labels ajoutés.\n"
     ]
    }
   ],
   "source": [
    "# On réinitialise le modèle et l'optimiseur\n",
    "ssl_model = SimpleCNN(in_channels=n_channels, num_classes=n_classes).to(device)\n",
    "ssl_optimizer = torch.optim.Adam(ssl_model.parameters(), lr=0.001)\n",
    "\n",
    "# On commence avec le jeu de données étiqueté de base\n",
    "current_labeled_indices = list(labeled_indices)\n",
    "\n",
    "for iteration in range(5): # 5 itérations de pseudo-labellisation\n",
    "    print(f'--- Itération {iteration+1} ---')\n",
    "\n",
    "    # On crée le dataset d'entraînement actuel\n",
    "    iter_dataset = Subset(train_dataset, current_labeled_indices)\n",
    "    iter_loader = DataLoader(iter_dataset, batch_size=32, shuffle=True)\n",
    "\n",
    "    # 1. Entraîner le modèle\n",
    "    print(f'Entraînement sur {len(iter_dataset)} images...')\n",
    "    pseudo_label_auc, pseudo_label_acc, pseudo_label_f1 = train_and_evaluate(ssl_model, iter_loader, test_loader, ssl_optimizer, criterion, epochs=5)\n",
    "\n",
    "    # 2. Générer des pseudo-labels\n",
    "    print('Génération de pseudo-labels...')\n",
    "    pseudo_indices, pseudo_labels = get_pseudo_labels(ssl_model, unlabeled_loader, threshold=0.9)\n",
    "    print(f'{len(pseudo_indices)} nouveaux pseudo-labels ajoutés.')\n",
    "\n",
    "    # 3. Mettre à jour le dataset d'entraînement\n",
    "    temp_dataset = train_dataset\n",
    "    for idx, label in zip(pseudo_indices, pseudo_labels):\n",
    "        # On ne modifie que les labels des images qu'on a pseudo-labellisées\n",
    "        if idx not in current_labeled_indices: # Pour ne pas écraser les vrais labels\n",
    "            temp_dataset.labels[idx] = label\n",
    "            current_labeled_indices.append(idx)\n",
    "\n",
    "    if len(pseudo_indices) == 0:\n",
    "        print(\"Plus de pseudo-labels trouvés, on arrête là !\")\n",
    "        break"
   ]
  },
  {
   "cell_type": "code",
   "execution_count": 11,
   "metadata": {},
   "outputs": [
    {
     "name": "stdout",
     "output_type": "stream",
     "text": [
      "Modèle sauvegardé avec succès dans : dermamnist_ssl_model.pth\n"
     ]
    }
   ],
   "source": [
    "# Chemin où sauvegarder le modèle\n",
    "model_save_path = 'dermamnist_ssl_model.pth'\n",
    "\n",
    "# On sauvegarde uniquement les poids du modèle (c'est la meilleure pratique)\n",
    "torch.save(ssl_model.state_dict(), model_save_path)\n",
    "\n",
    "print(f\"Modèle sauvegardé avec succès dans : {model_save_path}\")"
   ]
  },
  {
   "cell_type": "markdown",
   "metadata": {},
   "source": [
    "## 4. Analyse et Questions de Réflexion\n",
    "\n",
    "A-t-on amélioré le score ? Normalement, oui ! Mais à quel prix ?\n",
    "\n",
    "**Questions pour aller plus loin :**\n",
    "1. **L'impact du seuil** : Que se passe-t-il si vous baissez le seuil à 0.8 ? Et si vous l'augmentez à 0.99 ? Un seuil bas risque d'introduire du bruit (mauvais labels), un seuil haut risque de ne sélectionner que les exemples \"faciles\".\n",
    "2. **La dérive de confirmation** : Le modèle devient de plus en plus confiant dans ses propres erreurs. Comment pourrait-on limiter ce phénomène ? (Indice : calibration, régularisation...)\n",
    "3. **Calibration du modèle** : Un modèle bien calibré donne des probabilités qui reflètent sa confiance réelle. Un score de 0.8 devrait signifier \"correct dans 80% des cas\". Est-ce le cas ici ? Comment le vérifier ? (Indice : ECE, Brier score, diagrammes de fiabilité). C'est un excellent sujet pour le chapitre 7 !\n",
    "\n",
    "> **Le mot de la fin :** La pseudo-labellisation est une technique simple mais puissante. Son succès dépend entièrement de la qualité des pseudo-labels. Dans les prochains chapitres, on verra des méthodes plus robustes pour s'assurer de ne pas propager les erreurs !"
   ]
  },
  {
   "cell_type": "markdown",
   "metadata": {},
   "source": []
  }
 ],
 "metadata": {
  "kernelspec": {
   "display_name": "Python 3 (ipykernel)",
   "language": "python",
   "name": "python3"
  },
  "language_info": {
   "codemirror_mode": {
    "name": "ipython",
    "version": 3
   },
   "file_extension": ".py",
   "mimetype": "text/x-python",
   "name": "python",
   "nbconvert_exporter": "python",
   "pygments_lexer": "ipython3",
   "version": "3.12.8"
  }
 },
 "nbformat": 4,
 "nbformat_minor": 4
}
